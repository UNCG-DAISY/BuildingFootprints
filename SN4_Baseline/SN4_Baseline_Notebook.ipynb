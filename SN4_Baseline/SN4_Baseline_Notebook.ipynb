{
  "nbformat": 4,
  "nbformat_minor": 0,
  "metadata": {
    "colab": {
      "name": "Untitled2.ipynb",
      "provenance": []
    },
    "kernelspec": {
      "name": "python3",
      "display_name": "Python 3"
    },
    "language_info": {
      "name": "python"
    },
    "accelerator": "GPU"
  },
  "cells": [
    {
      "cell_type": "code",
      "metadata": {
        "colab": {
          "base_uri": "https://localhost:8080/"
        },
        "id": "AOZrkhzHgseZ",
        "outputId": "2df44f53-a051-46c4-b423-6f0ea4f87de7"
      },
      "source": [
        "!pip install --upgrade git+https://github.com/SpaceNetChallenge/utilities.git"
      ],
      "execution_count": 1,
      "outputs": [
        {
          "output_type": "stream",
          "name": "stdout",
          "text": [
            "Collecting git+https://github.com/SpaceNetChallenge/utilities.git\n",
            "  Cloning https://github.com/SpaceNetChallenge/utilities.git to /tmp/pip-req-build-uu8v4l6w\n",
            "  Running command git clone -q https://github.com/SpaceNetChallenge/utilities.git /tmp/pip-req-build-uu8v4l6w\n",
            "Requirement already satisfied: geopandas in /usr/local/lib/python3.7/dist-packages (from spacenetutilities==3.0) (0.10.2)\n",
            "Requirement already satisfied: numpy in /usr/local/lib/python3.7/dist-packages (from spacenetutilities==3.0) (1.19.5)\n",
            "Requirement already satisfied: rtree in /usr/local/lib/python3.7/dist-packages (from spacenetutilities==3.0) (0.9.7)\n",
            "Requirement already satisfied: scipy in /usr/local/lib/python3.7/dist-packages (from spacenetutilities==3.0) (1.4.1)\n",
            "Requirement already satisfied: osmnx in /usr/local/lib/python3.7/dist-packages (from spacenetutilities==3.0) (1.1.1)\n",
            "Requirement already satisfied: affine in /usr/local/lib/python3.7/dist-packages (from spacenetutilities==3.0) (2.3.0)\n",
            "Requirement already satisfied: tqdm in /usr/local/lib/python3.7/dist-packages (from spacenetutilities==3.0) (4.62.3)\n",
            "Requirement already satisfied: rasterio>=1.0a9 in /usr/local/lib/python3.7/dist-packages (from spacenetutilities==3.0) (1.3a1)\n",
            "Requirement already satisfied: pillow in /usr/local/lib/python3.7/dist-packages (from spacenetutilities==3.0) (7.1.2)\n",
            "Requirement already satisfied: cligj>=0.5 in /usr/local/lib/python3.7/dist-packages (from rasterio>=1.0a9->spacenetutilities==3.0) (0.7.2)\n",
            "Requirement already satisfied: snuggs>=1.4.1 in /usr/local/lib/python3.7/dist-packages (from rasterio>=1.0a9->spacenetutilities==3.0) (1.4.7)\n",
            "Requirement already satisfied: click-plugins in /usr/local/lib/python3.7/dist-packages (from rasterio>=1.0a9->spacenetutilities==3.0) (1.1.1)\n",
            "Requirement already satisfied: attrs in /usr/local/lib/python3.7/dist-packages (from rasterio>=1.0a9->spacenetutilities==3.0) (21.2.0)\n",
            "Requirement already satisfied: click>=4.0 in /usr/local/lib/python3.7/dist-packages (from rasterio>=1.0a9->spacenetutilities==3.0) (7.1.2)\n",
            "Requirement already satisfied: certifi in /usr/local/lib/python3.7/dist-packages (from rasterio>=1.0a9->spacenetutilities==3.0) (2021.5.30)\n",
            "Requirement already satisfied: setuptools in /usr/local/lib/python3.7/dist-packages (from rasterio>=1.0a9->spacenetutilities==3.0) (57.4.0)\n",
            "Requirement already satisfied: pyparsing>=2.1.6 in /usr/local/lib/python3.7/dist-packages (from snuggs>=1.4.1->rasterio>=1.0a9->spacenetutilities==3.0) (2.4.7)\n",
            "Requirement already satisfied: pandas>=0.25.0 in /usr/local/lib/python3.7/dist-packages (from geopandas->spacenetutilities==3.0) (1.1.5)\n",
            "Requirement already satisfied: pyproj>=2.2.0 in /usr/local/lib/python3.7/dist-packages (from geopandas->spacenetutilities==3.0) (3.2.1)\n",
            "Requirement already satisfied: fiona>=1.8 in /usr/local/lib/python3.7/dist-packages (from geopandas->spacenetutilities==3.0) (1.8.20)\n",
            "Requirement already satisfied: shapely>=1.6 in /usr/local/lib/python3.7/dist-packages (from geopandas->spacenetutilities==3.0) (1.7.1)\n",
            "Requirement already satisfied: munch in /usr/local/lib/python3.7/dist-packages (from fiona>=1.8->geopandas->spacenetutilities==3.0) (2.5.0)\n",
            "Requirement already satisfied: six>=1.7 in /usr/local/lib/python3.7/dist-packages (from fiona>=1.8->geopandas->spacenetutilities==3.0) (1.15.0)\n",
            "Requirement already satisfied: pytz>=2017.2 in /usr/local/lib/python3.7/dist-packages (from pandas>=0.25.0->geopandas->spacenetutilities==3.0) (2018.9)\n",
            "Requirement already satisfied: python-dateutil>=2.7.3 in /usr/local/lib/python3.7/dist-packages (from pandas>=0.25.0->geopandas->spacenetutilities==3.0) (2.8.2)\n",
            "Requirement already satisfied: matplotlib>=3.3 in /usr/local/lib/python3.7/dist-packages (from osmnx->spacenetutilities==3.0) (3.4.3)\n",
            "Requirement already satisfied: networkx>=2.5 in /usr/local/lib/python3.7/dist-packages (from osmnx->spacenetutilities==3.0) (2.6.3)\n",
            "Requirement already satisfied: requests>=2.25 in /usr/local/lib/python3.7/dist-packages (from osmnx->spacenetutilities==3.0) (2.26.0)\n",
            "Requirement already satisfied: cycler>=0.10 in /usr/local/lib/python3.7/dist-packages (from matplotlib>=3.3->osmnx->spacenetutilities==3.0) (0.10.0)\n",
            "Requirement already satisfied: kiwisolver>=1.0.1 in /usr/local/lib/python3.7/dist-packages (from matplotlib>=3.3->osmnx->spacenetutilities==3.0) (1.3.2)\n",
            "Requirement already satisfied: charset-normalizer~=2.0.0 in /usr/local/lib/python3.7/dist-packages (from requests>=2.25->osmnx->spacenetutilities==3.0) (2.0.6)\n",
            "Requirement already satisfied: idna<4,>=2.5 in /usr/local/lib/python3.7/dist-packages (from requests>=2.25->osmnx->spacenetutilities==3.0) (2.10)\n",
            "Requirement already satisfied: urllib3<1.27,>=1.21.1 in /usr/local/lib/python3.7/dist-packages (from requests>=2.25->osmnx->spacenetutilities==3.0) (1.24.3)\n"
          ]
        }
      ]
    },
    {
      "cell_type": "code",
      "metadata": {
        "colab": {
          "base_uri": "https://localhost:8080/"
        },
        "id": "6htJwimoPX5m",
        "outputId": "f748354a-043b-4865-ecbc-4200d138155b"
      },
      "source": [
        "!pip install -e git+git://github.com/cosmiq/cosmiq_sn4_baseline#egg=cosmiq_sn4_baseline"
      ],
      "execution_count": 2,
      "outputs": [
        {
          "output_type": "stream",
          "name": "stdout",
          "text": [
            "Obtaining cosmiq_sn4_baseline from git+git://github.com/cosmiq/cosmiq_sn4_baseline#egg=cosmiq_sn4_baseline\n",
            "  Cloning git://github.com/cosmiq/cosmiq_sn4_baseline to ./src/cosmiq-sn4-baseline\n",
            "  Running command git clone -q git://github.com/cosmiq/cosmiq_sn4_baseline /content/src/cosmiq-sn4-baseline\n",
            "Requirement already satisfied: numpy in /usr/local/lib/python3.7/dist-packages (from cosmiq_sn4_baseline) (1.19.5)\n",
            "Requirement already satisfied: pandas in /usr/local/lib/python3.7/dist-packages (from cosmiq_sn4_baseline) (1.1.5)\n",
            "Requirement already satisfied: scikit-image in /usr/local/lib/python3.7/dist-packages (from cosmiq_sn4_baseline) (0.16.2)\n",
            "Requirement already satisfied: rasterio>=1.0.7 in /usr/local/lib/python3.7/dist-packages (from cosmiq_sn4_baseline) (1.3a1)\n",
            "Requirement already satisfied: opencv-python in /usr/local/lib/python3.7/dist-packages (from cosmiq_sn4_baseline) (4.1.2.30)\n",
            "Requirement already satisfied: spacenetutilities in /usr/local/lib/python3.7/dist-packages (from cosmiq_sn4_baseline) (3.0)\n",
            "Requirement already satisfied: keras>=2.2.2 in /usr/local/lib/python3.7/dist-packages (from cosmiq_sn4_baseline) (2.6.0)\n",
            "Requirement already satisfied: tensorflow>=1.10.0 in /usr/local/lib/python3.7/dist-packages (from cosmiq_sn4_baseline) (2.6.0)\n",
            "Requirement already satisfied: tensorboard>=1.10.0 in /usr/local/lib/python3.7/dist-packages (from cosmiq_sn4_baseline) (2.6.0)\n",
            "Requirement already satisfied: setuptools in /usr/local/lib/python3.7/dist-packages (from cosmiq_sn4_baseline) (57.4.0)\n",
            "Requirement already satisfied: shapely in /usr/local/lib/python3.7/dist-packages (from cosmiq_sn4_baseline) (1.7.1)\n",
            "Requirement already satisfied: geopandas in /usr/local/lib/python3.7/dist-packages (from cosmiq_sn4_baseline) (0.10.2)\n",
            "Requirement already satisfied: snuggs>=1.4.1 in /usr/local/lib/python3.7/dist-packages (from rasterio>=1.0.7->cosmiq_sn4_baseline) (1.4.7)\n",
            "Requirement already satisfied: click-plugins in /usr/local/lib/python3.7/dist-packages (from rasterio>=1.0.7->cosmiq_sn4_baseline) (1.1.1)\n",
            "Requirement already satisfied: cligj>=0.5 in /usr/local/lib/python3.7/dist-packages (from rasterio>=1.0.7->cosmiq_sn4_baseline) (0.7.2)\n",
            "Requirement already satisfied: click>=4.0 in /usr/local/lib/python3.7/dist-packages (from rasterio>=1.0.7->cosmiq_sn4_baseline) (7.1.2)\n",
            "Requirement already satisfied: affine in /usr/local/lib/python3.7/dist-packages (from rasterio>=1.0.7->cosmiq_sn4_baseline) (2.3.0)\n",
            "Requirement already satisfied: certifi in /usr/local/lib/python3.7/dist-packages (from rasterio>=1.0.7->cosmiq_sn4_baseline) (2021.5.30)\n",
            "Requirement already satisfied: attrs in /usr/local/lib/python3.7/dist-packages (from rasterio>=1.0.7->cosmiq_sn4_baseline) (21.2.0)\n",
            "Requirement already satisfied: pyparsing>=2.1.6 in /usr/local/lib/python3.7/dist-packages (from snuggs>=1.4.1->rasterio>=1.0.7->cosmiq_sn4_baseline) (2.4.7)\n",
            "Requirement already satisfied: werkzeug>=0.11.15 in /usr/local/lib/python3.7/dist-packages (from tensorboard>=1.10.0->cosmiq_sn4_baseline) (1.0.1)\n",
            "Requirement already satisfied: google-auth-oauthlib<0.5,>=0.4.1 in /usr/local/lib/python3.7/dist-packages (from tensorboard>=1.10.0->cosmiq_sn4_baseline) (0.4.6)\n",
            "Requirement already satisfied: markdown>=2.6.8 in /usr/local/lib/python3.7/dist-packages (from tensorboard>=1.10.0->cosmiq_sn4_baseline) (3.3.4)\n",
            "Requirement already satisfied: tensorboard-plugin-wit>=1.6.0 in /usr/local/lib/python3.7/dist-packages (from tensorboard>=1.10.0->cosmiq_sn4_baseline) (1.8.0)\n",
            "Requirement already satisfied: grpcio>=1.24.3 in /usr/local/lib/python3.7/dist-packages (from tensorboard>=1.10.0->cosmiq_sn4_baseline) (1.41.0)\n",
            "Requirement already satisfied: google-auth<2,>=1.6.3 in /usr/local/lib/python3.7/dist-packages (from tensorboard>=1.10.0->cosmiq_sn4_baseline) (1.35.0)\n",
            "Requirement already satisfied: protobuf>=3.6.0 in /usr/local/lib/python3.7/dist-packages (from tensorboard>=1.10.0->cosmiq_sn4_baseline) (3.17.3)\n",
            "Requirement already satisfied: wheel>=0.26 in /usr/local/lib/python3.7/dist-packages (from tensorboard>=1.10.0->cosmiq_sn4_baseline) (0.37.0)\n",
            "Requirement already satisfied: tensorboard-data-server<0.7.0,>=0.6.0 in /usr/local/lib/python3.7/dist-packages (from tensorboard>=1.10.0->cosmiq_sn4_baseline) (0.6.1)\n",
            "Requirement already satisfied: requests<3,>=2.21.0 in /usr/local/lib/python3.7/dist-packages (from tensorboard>=1.10.0->cosmiq_sn4_baseline) (2.26.0)\n",
            "Requirement already satisfied: absl-py>=0.4 in /usr/local/lib/python3.7/dist-packages (from tensorboard>=1.10.0->cosmiq_sn4_baseline) (0.12.0)\n",
            "Requirement already satisfied: six in /usr/local/lib/python3.7/dist-packages (from absl-py>=0.4->tensorboard>=1.10.0->cosmiq_sn4_baseline) (1.15.0)\n",
            "Requirement already satisfied: rsa<5,>=3.1.4 in /usr/local/lib/python3.7/dist-packages (from google-auth<2,>=1.6.3->tensorboard>=1.10.0->cosmiq_sn4_baseline) (4.7.2)\n",
            "Requirement already satisfied: pyasn1-modules>=0.2.1 in /usr/local/lib/python3.7/dist-packages (from google-auth<2,>=1.6.3->tensorboard>=1.10.0->cosmiq_sn4_baseline) (0.2.8)\n",
            "Requirement already satisfied: cachetools<5.0,>=2.0.0 in /usr/local/lib/python3.7/dist-packages (from google-auth<2,>=1.6.3->tensorboard>=1.10.0->cosmiq_sn4_baseline) (4.2.4)\n",
            "Requirement already satisfied: requests-oauthlib>=0.7.0 in /usr/local/lib/python3.7/dist-packages (from google-auth-oauthlib<0.5,>=0.4.1->tensorboard>=1.10.0->cosmiq_sn4_baseline) (1.3.0)\n",
            "Requirement already satisfied: importlib-metadata in /usr/local/lib/python3.7/dist-packages (from markdown>=2.6.8->tensorboard>=1.10.0->cosmiq_sn4_baseline) (4.8.1)\n",
            "Requirement already satisfied: pyasn1<0.5.0,>=0.4.6 in /usr/local/lib/python3.7/dist-packages (from pyasn1-modules>=0.2.1->google-auth<2,>=1.6.3->tensorboard>=1.10.0->cosmiq_sn4_baseline) (0.4.8)\n",
            "Requirement already satisfied: idna<4,>=2.5 in /usr/local/lib/python3.7/dist-packages (from requests<3,>=2.21.0->tensorboard>=1.10.0->cosmiq_sn4_baseline) (2.10)\n",
            "Requirement already satisfied: urllib3<1.27,>=1.21.1 in /usr/local/lib/python3.7/dist-packages (from requests<3,>=2.21.0->tensorboard>=1.10.0->cosmiq_sn4_baseline) (1.24.3)\n",
            "Requirement already satisfied: charset-normalizer~=2.0.0 in /usr/local/lib/python3.7/dist-packages (from requests<3,>=2.21.0->tensorboard>=1.10.0->cosmiq_sn4_baseline) (2.0.6)\n",
            "Requirement already satisfied: oauthlib>=3.0.0 in /usr/local/lib/python3.7/dist-packages (from requests-oauthlib>=0.7.0->google-auth-oauthlib<0.5,>=0.4.1->tensorboard>=1.10.0->cosmiq_sn4_baseline) (3.1.1)\n",
            "Requirement already satisfied: wrapt~=1.12.1 in /usr/local/lib/python3.7/dist-packages (from tensorflow>=1.10.0->cosmiq_sn4_baseline) (1.12.1)\n",
            "Requirement already satisfied: google-pasta~=0.2 in /usr/local/lib/python3.7/dist-packages (from tensorflow>=1.10.0->cosmiq_sn4_baseline) (0.2.0)\n",
            "Requirement already satisfied: termcolor~=1.1.0 in /usr/local/lib/python3.7/dist-packages (from tensorflow>=1.10.0->cosmiq_sn4_baseline) (1.1.0)\n",
            "Requirement already satisfied: flatbuffers~=1.12.0 in /usr/local/lib/python3.7/dist-packages (from tensorflow>=1.10.0->cosmiq_sn4_baseline) (1.12)\n",
            "Requirement already satisfied: clang~=5.0 in /usr/local/lib/python3.7/dist-packages (from tensorflow>=1.10.0->cosmiq_sn4_baseline) (5.0)\n",
            "Requirement already satisfied: opt-einsum~=3.3.0 in /usr/local/lib/python3.7/dist-packages (from tensorflow>=1.10.0->cosmiq_sn4_baseline) (3.3.0)\n",
            "Requirement already satisfied: gast==0.4.0 in /usr/local/lib/python3.7/dist-packages (from tensorflow>=1.10.0->cosmiq_sn4_baseline) (0.4.0)\n",
            "Requirement already satisfied: h5py~=3.1.0 in /usr/local/lib/python3.7/dist-packages (from tensorflow>=1.10.0->cosmiq_sn4_baseline) (3.1.0)\n",
            "Requirement already satisfied: tensorflow-estimator~=2.6 in /usr/local/lib/python3.7/dist-packages (from tensorflow>=1.10.0->cosmiq_sn4_baseline) (2.6.0)\n",
            "Requirement already satisfied: keras-preprocessing~=1.1.2 in /usr/local/lib/python3.7/dist-packages (from tensorflow>=1.10.0->cosmiq_sn4_baseline) (1.1.2)\n",
            "Requirement already satisfied: typing-extensions~=3.7.4 in /usr/local/lib/python3.7/dist-packages (from tensorflow>=1.10.0->cosmiq_sn4_baseline) (3.7.4.3)\n",
            "Requirement already satisfied: astunparse~=1.6.3 in /usr/local/lib/python3.7/dist-packages (from tensorflow>=1.10.0->cosmiq_sn4_baseline) (1.6.3)\n",
            "Requirement already satisfied: cached-property in /usr/local/lib/python3.7/dist-packages (from h5py~=3.1.0->tensorflow>=1.10.0->cosmiq_sn4_baseline) (1.5.2)\n",
            "Requirement already satisfied: pyproj>=2.2.0 in /usr/local/lib/python3.7/dist-packages (from geopandas->cosmiq_sn4_baseline) (3.2.1)\n",
            "Requirement already satisfied: fiona>=1.8 in /usr/local/lib/python3.7/dist-packages (from geopandas->cosmiq_sn4_baseline) (1.8.20)\n",
            "Requirement already satisfied: munch in /usr/local/lib/python3.7/dist-packages (from fiona>=1.8->geopandas->cosmiq_sn4_baseline) (2.5.0)\n",
            "Requirement already satisfied: pytz>=2017.2 in /usr/local/lib/python3.7/dist-packages (from pandas->cosmiq_sn4_baseline) (2018.9)\n",
            "Requirement already satisfied: python-dateutil>=2.7.3 in /usr/local/lib/python3.7/dist-packages (from pandas->cosmiq_sn4_baseline) (2.8.2)\n",
            "Requirement already satisfied: zipp>=0.5 in /usr/local/lib/python3.7/dist-packages (from importlib-metadata->markdown>=2.6.8->tensorboard>=1.10.0->cosmiq_sn4_baseline) (3.6.0)\n",
            "Requirement already satisfied: networkx>=2.0 in /usr/local/lib/python3.7/dist-packages (from scikit-image->cosmiq_sn4_baseline) (2.6.3)\n",
            "Requirement already satisfied: matplotlib!=3.0.0,>=2.0.0 in /usr/local/lib/python3.7/dist-packages (from scikit-image->cosmiq_sn4_baseline) (3.4.3)\n",
            "Requirement already satisfied: pillow>=4.3.0 in /usr/local/lib/python3.7/dist-packages (from scikit-image->cosmiq_sn4_baseline) (7.1.2)\n",
            "Requirement already satisfied: PyWavelets>=0.4.0 in /usr/local/lib/python3.7/dist-packages (from scikit-image->cosmiq_sn4_baseline) (1.1.1)\n",
            "Requirement already satisfied: scipy>=0.19.0 in /usr/local/lib/python3.7/dist-packages (from scikit-image->cosmiq_sn4_baseline) (1.4.1)\n",
            "Requirement already satisfied: imageio>=2.3.0 in /usr/local/lib/python3.7/dist-packages (from scikit-image->cosmiq_sn4_baseline) (2.4.1)\n",
            "Requirement already satisfied: cycler>=0.10 in /usr/local/lib/python3.7/dist-packages (from matplotlib!=3.0.0,>=2.0.0->scikit-image->cosmiq_sn4_baseline) (0.10.0)\n",
            "Requirement already satisfied: kiwisolver>=1.0.1 in /usr/local/lib/python3.7/dist-packages (from matplotlib!=3.0.0,>=2.0.0->scikit-image->cosmiq_sn4_baseline) (1.3.2)\n",
            "Requirement already satisfied: tqdm in /usr/local/lib/python3.7/dist-packages (from spacenetutilities->cosmiq_sn4_baseline) (4.62.3)\n",
            "Requirement already satisfied: osmnx in /usr/local/lib/python3.7/dist-packages (from spacenetutilities->cosmiq_sn4_baseline) (1.1.1)\n",
            "Requirement already satisfied: rtree in /usr/local/lib/python3.7/dist-packages (from spacenetutilities->cosmiq_sn4_baseline) (0.9.7)\n",
            "Installing collected packages: cosmiq-sn4-baseline\n",
            "  Attempting uninstall: cosmiq-sn4-baseline\n",
            "    Found existing installation: CosmiQ-SN4-Baseline 1.1.2\n",
            "    Can't uninstall 'CosmiQ-SN4-Baseline'. No files were found to uninstall.\n",
            "  Running setup.py develop for cosmiq-sn4-baseline\n",
            "Successfully installed cosmiq-sn4-baseline-1.1.2\n"
          ]
        }
      ]
    },
    {
      "cell_type": "code",
      "metadata": {
        "id": "0zj47iAZgaI-"
      },
      "source": [
        ""
      ],
      "execution_count": null,
      "outputs": []
    }
  ]
}
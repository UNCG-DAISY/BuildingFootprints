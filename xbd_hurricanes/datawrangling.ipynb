{
  "nbformat": 4,
  "nbformat_minor": 0,
  "metadata": {
    "colab": {
      "name": "datawrangling.ipynb",
      "provenance": []
    },
    "kernelspec": {
      "name": "python3",
      "display_name": "Python 3"
    },
    "language_info": {
      "name": "python"
    }
  },
  "cells": [
    {
      "cell_type": "code",
      "metadata": {
        "id": "3_8zlXX65UP-"
      },
      "source": [
        "#mount your google drive.\n",
        "#it will be visible in the file navigator on the left of this notebook\n",
        "#there should be a folder in your drive with your data\n",
        "from google.colab import drive\n",
        "drive.mount('/content/gdrive')"
      ],
      "execution_count": null,
      "outputs": []
    },
    {
      "cell_type": "code",
      "metadata": {
        "id": "_77qb0zh5WKp"
      },
      "source": [
        "%cd /content/gdrive/MyDrive/xview2\\ dataset"
      ],
      "execution_count": null,
      "outputs": []
    },
    {
      "cell_type": "code",
      "metadata": {
        "id": "PclASDiw5YRC"
      },
      "source": [
        "%cat xview2_geotiff.tgz.part-a? > xview2_geotiff.tgz"
      ],
      "execution_count": null,
      "outputs": []
    },
    {
      "cell_type": "code",
      "metadata": {
        "id": "h_g7Mjih5hdQ"
      },
      "source": [
        "#Is it !cat or %cat?... %cat worked  \n",
        "#https://colab.research.google.com/github/jakevdp/PythonDataScienceHandbook/blob/master/notebooks/01.05-IPython-And-Shell-Commands.ipynb"
      ],
      "execution_count": null,
      "outputs": []
    },
    {
      "cell_type": "code",
      "metadata": {
        "id": "WOnyFvH85k6K"
      },
      "source": [
        "!tar -xvzf xview2_geotiff.tgz"
      ],
      "execution_count": null,
      "outputs": []
    }
  ]
}